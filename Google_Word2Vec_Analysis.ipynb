{
 "cells": [
  {
   "cell_type": "code",
   "execution_count": 1,
   "metadata": {
    "colab": {
     "base_uri": "https://localhost:8080/",
     "height": 124
    },
    "colab_type": "code",
    "id": "2U5fVmvLYHB4",
    "outputId": "8dd7be2b-9b5e-412e-cff7-e39d4e3b781d"
   },
   "outputs": [
    {
     "name": "stdout",
     "output_type": "stream",
     "text": [
      "Go to this URL in a browser: https://accounts.google.com/o/oauth2/auth?client_id=947318989803-6bn6qk8qdgf4n4g3pfee6491hc0brc4i.apps.googleusercontent.com&redirect_uri=urn%3aietf%3awg%3aoauth%3a2.0%3aoob&response_type=code&scope=email%20https%3a%2f%2fwww.googleapis.com%2fauth%2fdocs.test%20https%3a%2f%2fwww.googleapis.com%2fauth%2fdrive%20https%3a%2f%2fwww.googleapis.com%2fauth%2fdrive.photos.readonly%20https%3a%2f%2fwww.googleapis.com%2fauth%2fpeopleapi.readonly\n",
      "\n",
      "Enter your authorization code:\n",
      "··········\n",
      "Mounted at /content/drive\n"
     ]
    }
   ],
   "source": [
    "# ###### Comment out ########\n",
    "\n",
    "# from google.colab import drive\n",
    "# drive.mount('/content/drive')"
   ]
  },
  {
   "cell_type": "markdown",
   "metadata": {
    "colab_type": "text",
    "id": "ANTX7IKKdv7l"
   },
   "source": [
    "# Project: Sarcasm Detection"
   ]
  },
  {
   "cell_type": "markdown",
   "metadata": {
    "colab_type": "text",
    "id": "FkRsRjpYdv7n"
   },
   "source": [
    "## Problem:\n",
    "The purpose of this project is to get you familiar with word2vec, logistic regression, k\n",
    "nearest neighbor and perceptron classification. You are given with News Headlines Dataset\n",
    "for Sarcasm Detection that contains news headlines labeled for sarcasm. Your task is to\n",
    "implement a sarcasm detector for the news headlines."
   ]
  },
  {
   "cell_type": "markdown",
   "metadata": {
    "colab_type": "text",
    "id": "DZlu6nn9dv7q"
   },
   "source": [
    "## Dataset:\n",
    "The data set contains 28,616 headlines which are divided into two sets:\n",
    "<ul>\n",
    "    <li>train: 22,892 headlines </li>\n",
    "    <li>test: 5,724 headlines</li>\n",
    "</ul>\n",
    "The format of the files is &lt;label>,&lt;headline>. Where &lt;label> is 1 if the headline is sarcastic\n",
    "and 0 otherwise."
   ]
  },
  {
   "cell_type": "markdown",
   "metadata": {
    "colab_type": "text",
    "id": "84-az6r3dv7t"
   },
   "source": [
    "## 1. Loading the dataset"
   ]
  },
  {
   "cell_type": "code",
   "execution_count": 1,
   "metadata": {
    "colab": {},
    "colab_type": "code",
    "id": "LVnfhROEdv7x"
   },
   "outputs": [],
   "source": [
    "import os\n",
    "import glob\n",
    "import re\n",
    "import numpy as np\n",
    "from matplotlib import pyplot\n",
    "import math \n",
    "import pandas as pd\n",
    "import string\n",
    "# !pip3 install gensim\n",
    "from gensim import corpora, models, similarities \n",
    "from gensim.models import KeyedVectors\n",
    "import gzip\n",
    "import matplotlib.pyplot as plt\n",
    "from scipy.spatial import distance\n",
    "import operator\n",
    "import time\n",
    "from statistics import mode"
   ]
  },
  {
   "cell_type": "code",
   "execution_count": 2,
   "metadata": {
    "colab": {
     "base_uri": "https://localhost:8080/",
     "height": 72
    },
    "colab_type": "code",
    "id": "1ULPEMxvdama",
    "outputId": "13db8fc2-f869-482b-e22b-9408c2a76e78"
   },
   "outputs": [],
   "source": [
    "##### Change this to your local path ##### \n",
    "\n",
    "word2vec = KeyedVectors.load_word2vec_format('GoogleNews-vectors-negative300.bin', binary=True)"
   ]
  },
  {
   "cell_type": "code",
   "execution_count": 3,
   "metadata": {
    "colab": {},
    "colab_type": "code",
    "id": "3d6T3rr1dv8L"
   },
   "outputs": [],
   "source": [
    "# Dataset is divided into train and test data which is then further divided into X and Y\n",
    "\n",
    "column_names = [\"Label\", \"Headline\"]\n",
    "train = pd.read_csv (r'train.txt', names = column_names)\n",
    "test = pd.read_csv (r'test.txt', names = column_names)\n",
    "text_file = open(\"stopwords.txt\", \"r\")\n",
    "stopwords = text_file.read().split('\\n')\n",
    "\n",
    "X_train = train['Headline']\n",
    "X_test = test['Headline']\n",
    "Y_train = train['Label'] \n",
    "Y_test = test['Label'] "
   ]
  },
  {
   "cell_type": "markdown",
   "metadata": {
    "colab_type": "text",
    "id": "Xy35c9I3dv8W"
   },
   "source": [
    "## 2. Preprocessing:"
   ]
  },
  {
   "cell_type": "markdown",
   "metadata": {
    "colab_type": "text",
    "id": "3hb6N28hdv8Y"
   },
   "source": [
    "### 2.1 Remove stop words and punctuation marks from the data set."
   ]
  },
  {
   "cell_type": "code",
   "execution_count": 4,
   "metadata": {
    "colab": {},
    "colab_type": "code",
    "id": "HV2RCI24dv8i"
   },
   "outputs": [],
   "source": [
    "# One hot encoding\n",
    "def oheEncoding(data):\n",
    "    arr = []\n",
    "    for label in data:\n",
    "        if label == 1:\n",
    "            arr.append([0,1])\n",
    "        else:\n",
    "            arr.append([1,0])\n",
    "    arr = np.asarray(arr)\n",
    "    arr = pd.DataFrame(arr)\n",
    "    arr = arr.to_numpy()\n",
    "    return arr\n",
    "\n",
    "ytr = oheEncoding(Y_train)\n",
    "ytr_enc = Y_train\n",
    "yte = Y_test\n",
    "\n",
    "# Removing punctuationn from dataset\n",
    "def dataCleaning(data):\n",
    "    arr = []\n",
    "    for text in data:\n",
    "        text = text.lower()\n",
    "        text = re.sub(r'\\W',' ',text)\n",
    "        text = re.sub(r'\\s+',' ',text)\n",
    "        arr.append(text)\n",
    "    arr = pd.DataFrame(arr, columns=[\"Headline\"])\n",
    "    return arr\n",
    "\n",
    "def xProcess(X_train, X_test, stopwords):\n",
    "    xtr = dataCleaning(X_train)\n",
    "    xte = dataCleaning(X_test)\n",
    "    \n",
    "    # Filtering out stop words\n",
    "    xtr['Headline'] = xtr['Headline'].str.split().apply(lambda x: [item for item in x if item not in stopwords])\n",
    "    xte['Headline'] = xte['Headline'].str.split().apply(lambda x: [item for item in x if item not in stopwords])\n",
    "    \n",
    "    return xtr, xte\n",
    "\n",
    "xtr, xte = xProcess(X_train, X_test, stopwords)"
   ]
  },
  {
   "cell_type": "markdown",
   "metadata": {
    "colab_type": "text",
    "id": "FazZugWNdv84"
   },
   "source": [
    "### 2.2 Represent the news headline as the average of all words in it."
   ]
  },
  {
   "cell_type": "code",
   "execution_count": 5,
   "metadata": {
    "colab": {},
    "colab_type": "code",
    "id": "5dZxrsK1dv85"
   },
   "outputs": [],
   "source": [
    "# Retrieving the vector representations of the words and then taking mean for each row\n",
    "def embedDf(df):\n",
    "    embedded = []\n",
    "    to_delete = []\n",
    "    for current, i in zip(df['Headline'], range(len(df['Headline']))):\n",
    "\n",
    "        # Checks if a word exists in our word2vec model and if number of words in a row is greater than 1\n",
    "        if all(i in word2vec.vocab for i in current) and len(current) > 1:\n",
    "            result = np.mean(word2vec[current], axis=0)    \n",
    "            embedded.append(result)\n",
    "        else:\n",
    "            to_delete.append(i)\n",
    "\n",
    "    embedded = pd.DataFrame(embedded)\n",
    "    embedded = embedded.to_numpy()\n",
    "    return embedded, to_delete\n",
    "\n",
    "# Removed enteries filtered out from the label dataset\n",
    "def remove_elements(my_list, to_del):\n",
    "    somelist = [i for j, i in enumerate(my_list) if j not in to_del]\n",
    "    return somelist\n",
    "\n",
    "vecxtr, del_ytr = embedDf(xtr)\n",
    "vecxte, del_yte = embedDf(xte)\n",
    "\n",
    "ytr = remove_elements(ytr, del_ytr)\n",
    "ytr_enc = remove_elements(ytr_enc, del_ytr)\n",
    "yte = remove_elements(yte, del_yte)"
   ]
  },
  {
   "cell_type": "markdown",
   "metadata": {
    "colab_type": "text",
    "id": "uW3CigrLdv9A"
   },
   "source": [
    "## 3. Classification\n"
   ]
  },
  {
   "cell_type": "markdown",
   "metadata": {
    "colab_type": "text",
    "id": "kCBrA8Iddv9B"
   },
   "source": [
    "### 3.1 Logistic Regression\n"
   ]
  },
  {
   "cell_type": "code",
   "execution_count": 6,
   "metadata": {
    "colab": {
     "base_uri": "https://localhost:8080/",
     "height": 296
    },
    "colab_type": "code",
    "id": "NF7xrO5YBTEk",
    "outputId": "d86e5239-e4dc-442d-90e8-1208b6a0ef2d"
   },
   "outputs": [
    {
     "name": "stdout",
     "output_type": "stream",
     "text": [
      "--- 24.25016975402832 seconds ---\n"
     ]
    },
    {
     "data": {
      "image/png": "[encoded data removed]",
      "text/plain": [
       "<Figure size 432x288 with 1 Axes>"
      ]
     },
     "metadata": {
      "needs_background": "light"
     },
     "output_type": "display_data"
    }
   ],
   "source": [
    "\n",
    "epsilon = np.float(1e-100)\n",
    "\n",
    "# Sigmoid Function\n",
    "def sigmoid(Z):\n",
    "    return 1 / (1 + np.exp(-Z))\n",
    "\n",
    "# Predict Function\n",
    "def predict(X, W):\n",
    "    return (np.dot(X,W))\n",
    "\n",
    "# Cross-entropy loss function\n",
    "def cross_entropy_loss(H, Y):\n",
    "    Y = np.array(Y)\n",
    "    return (-Y * np.log(H + epsilon) - (1 - Y) * np.log(1 - H + epsilon)).mean()\n",
    "\n",
    "# Function to convert probabilities back into class labels\n",
    "def to_classlabel(z):\n",
    "    return z.argmax(axis=1)\n",
    "\n",
    "# Mini-batch Gradient Descent with batch size of 32 samples\n",
    "def miniBatchGD(X, Y, ytr_enc, alpha, iters, batch_size = 32):\n",
    "    \n",
    "    m = (X.shape)[0]\n",
    "    n = (X.shape)[1] \n",
    "    W = np.full((n, 2), 0.1) # n x 3\n",
    "    inner_iters = math.floor(m/batch_size)\n",
    "    cost_ = []\n",
    "\n",
    "    for epoch in range (iters):\n",
    "        for i in range(inner_iters):\n",
    "\n",
    "            # Splitting data into batches\n",
    "            b = i * 32\n",
    "            batchX = X[b : b + 32]\n",
    "            batchY = Y[b : b + 32]\n",
    "\n",
    "            # Performing Gradient descent on the current batch and updating weights accordingly\n",
    "            H = predict(batchX, W)\n",
    "            sigm = sigmoid(H) \n",
    "            diff = sigm - batchY\n",
    "            grad = np.dot(batchX.T, diff)\n",
    "            W -= (alpha * grad)\n",
    "        \n",
    "        # Finding cost after each iteration\n",
    "        H = predict(X, W)\n",
    "        sigm = sigmoid(H)\n",
    "        predicted = to_classlabel(sigm)\n",
    "        cost_.append(cross_entropy_loss(predicted, ytr_enc))\n",
    "\n",
    "    return W, cost_\n",
    "\n",
    "epoch = 1000\n",
    "\n",
    "start_time = time.time()\n",
    "\n",
    "W_lr, cost_ = miniBatchGD(vecxtr,ytr,ytr_enc,0.001,epoch)\n",
    "\n",
    "print(\"--- %s seconds ---\" % (time.time() - start_time))\n",
    "\n",
    "# Plotting cost against number of iterations\n",
    "epochs = np.arange(1, epoch+1)\n",
    "plt.plot(epochs, cost_)\n",
    "plt.xlabel('iterations')\n",
    "plt.ylabel('cost')\n",
    "plt.show()"
   ]
  },
  {
   "cell_type": "markdown",
   "metadata": {
    "colab_type": "text",
    "id": "T-byYu4Fdv9L"
   },
   "source": [
    "### 3.2 k Nearest Neighbors"
   ]
  },
  {
   "cell_type": "code",
   "execution_count": 12,
   "metadata": {
    "colab": {
     "base_uri": "https://localhost:8080/",
     "height": 34
    },
    "colab_type": "code",
    "id": "8P9ZRIeAdv9T",
    "outputId": "3a40f7ac-e848-463b-bc44-80648999c2f4"
   },
   "outputs": [
    {
     "name": "stdout",
     "output_type": "stream",
     "text": [
      "--- 687.3358438014984 seconds ---\n"
     ]
    }
   ],
   "source": [
    "# Function to calculate cosine similarity between two vectors\n",
    "def cosine_similarity(P, Q):\n",
    "    return np.dot(P, Q)/(np.linalg.norm(P)*np.linalg.norm(Q))\n",
    "\n",
    "# K Nearest Neighbours Function\n",
    "def KNN(xtr, xte, ytr, k):\n",
    "    pred = []\n",
    "\n",
    "    # Iterating through the test data\n",
    "    for test in xte: \n",
    "\n",
    "        # Finding the cosine similarity with entire train data\n",
    "        d = list(map(lambda train: cosine_similarity(train, test), xtr)) \n",
    "\n",
    "        # Adding the correct label next to each distance by makeing a tuple\n",
    "        di = np.array(list(zip(d, ytr)))\n",
    "\n",
    "        # Taking only the maximum k distance tuples\n",
    "        idx = np.argpartition(di[:, 0], k)\n",
    "        nearest_k = di[idx[::-1][:k]]\n",
    "\n",
    "        # Extracting the labels only\n",
    "        nearest_k = nearest_k[:,1] \n",
    "\n",
    "        # Finding the mode value for the predicts\n",
    "        try: \n",
    "            most_common = mode(nearest_k) \n",
    "            \n",
    "        # Handling the ties by backing off to k-1 neighbors\n",
    "        except:\n",
    "            most_common = mode(nearest_k[:k-1])\n",
    "        pred.append(most_common)\n",
    "\n",
    "    pred = [int(i) for i in pred]\n",
    "    return pred\n",
    "\n",
    "start_time = time.time()\n",
    "\n",
    "# Running for k = 1\n",
    "k_1 = KNN(vecxtr, vecxte, ytr_enc, 1)\n",
    "\n",
    "\n",
    "\n",
    "print(\"--- %s seconds ---\" % (time.time() - start_time))\n"
   ]
  },
  {
   "cell_type": "code",
   "execution_count": 13,
   "metadata": {},
   "outputs": [
    {
     "name": "stdout",
     "output_type": "stream",
     "text": [
      "--- 703.5744471549988 seconds ---\n"
     ]
    }
   ],
   "source": [
    "# Running for k = 3\n",
    "start_time = time.time()\n",
    "k_3 = KNN(vecxtr, vecxte, ytr_enc, 3)\n",
    "print(\"--- %s seconds ---\" % (time.time() - start_time))"
   ]
  },
  {
   "cell_type": "code",
   "execution_count": 14,
   "metadata": {},
   "outputs": [
    {
     "name": "stdout",
     "output_type": "stream",
     "text": [
      "--- 702.2141370773315 seconds ---\n"
     ]
    }
   ],
   "source": [
    "# Running for k = 5\n",
    "start_time = time.time()\n",
    "k_5 = KNN(vecxtr, vecxte, ytr_enc, 5)\n",
    "print(\"--- %s seconds ---\" % (time.time() - start_time))"
   ]
  },
  {
   "cell_type": "code",
   "execution_count": 15,
   "metadata": {},
   "outputs": [
    {
     "name": "stdout",
     "output_type": "stream",
     "text": [
      "--- 701.5105111598969 seconds ---\n"
     ]
    }
   ],
   "source": [
    "# Running for k = 7\n",
    "start_time = time.time()\n",
    "k_7 = KNN(vecxtr, vecxte, ytr_enc, 7)\n",
    "print(\"--- %s seconds ---\" % (time.time() - start_time))"
   ]
  },
  {
   "cell_type": "code",
   "execution_count": 16,
   "metadata": {},
   "outputs": [
    {
     "name": "stdout",
     "output_type": "stream",
     "text": [
      "--- 714.2522234916687 seconds ---\n"
     ]
    }
   ],
   "source": [
    "# Running for k = 10\n",
    "start_time = time.time()\n",
    "k_10 = KNN(vecxtr, vecxte, ytr_enc, 10)\n",
    "print(\"--- %s seconds ---\" % (time.time() - start_time))"
   ]
  },
  {
   "cell_type": "markdown",
   "metadata": {
    "colab_type": "text",
    "id": "c01ZVoAhdv9b"
   },
   "source": [
    "### 2.3 Perceptron"
   ]
  },
  {
   "cell_type": "code",
   "execution_count": 8,
   "metadata": {
    "colab": {
     "base_uri": "https://localhost:8080/",
     "height": 34
    },
    "colab_type": "code",
    "id": "vNEZ2fxFdv9d",
    "outputId": "b7d4a7aa-cbf8-4c57-ceb3-87339077f2a2"
   },
   "outputs": [
    {
     "name": "stdout",
     "output_type": "stream",
     "text": [
      "--- 441.82872319221497 seconds ---\n"
     ]
    }
   ],
   "source": [
    "# Hypothesis function\n",
    "def hypothesis(X, thetas):\n",
    "    Z = np.dot(X, thetas.T).reshape(-1,1)\n",
    "    return Z\n",
    "\n",
    "# Prediction function that predict whether the label is -1 or 1 for test set using learned perceptron weights\n",
    "def predict_p(X, thetas):\n",
    "    H = hypothesis(X, thetas)\n",
    "    predictions = []\n",
    "    for i in range(len(H)):\n",
    "        if H[i] > 0:\n",
    "            predictions.append(1)\n",
    "        else:\n",
    "            predictions.append(0)\n",
    "    predictions = np.array(predictions).reshape(-1,1)\n",
    "    return predictions\n",
    "\n",
    "# Perceptron learning algorithm\n",
    "def perceptron(X, Y, epoch = 10):\n",
    "\n",
    "    # Initializing weights with some noise\n",
    "    w = np.random.rand(1, X.shape[1]+1)\n",
    "  \n",
    "    for epoch in range(epoch):\n",
    "        misclassified = 0\n",
    "        \n",
    "        # Looping over each (data, label) pair in the dataset\n",
    "        for x, y in zip(X, Y):\n",
    "            x = np.insert(x, 0, 1)\n",
    "\n",
    "            # Checks if pair (x_i, y_i) is misclassified\n",
    "            if y * np.dot(w, x.T) <= 0:\n",
    "\n",
    "                # Updates eights\n",
    "                w += (y * x)\n",
    "\n",
    "                # Increments the number of misclassification\n",
    "                misclassified += 1\n",
    "\n",
    "        # Breaks out of loop if no value is misclassified\n",
    "        if misclassified == 0:\n",
    "            break\n",
    "\n",
    "    return w\n",
    "\n",
    "# Converting X train into a matrix             \n",
    "xtr_p = np.asmatrix(vecxtr, dtype = 'float64')\n",
    "\n",
    "# Changing class labels from [0, 1] to [-1, 1]\n",
    "ytr_p = [-1 if i == 0 else 1 for i in ytr_enc]\n",
    "\n",
    "epoch = 1000\n",
    "\n",
    "start_time = time.time()\n",
    "\n",
    "W_p = perceptron(xtr_p, ytr_p, epoch)\n",
    "\n",
    "print(\"--- %s seconds ---\" % (time.time() - start_time))"
   ]
  },
  {
   "cell_type": "markdown",
   "metadata": {
    "colab_type": "text",
    "id": "zEHZCYzBdv9h"
   },
   "source": [
    "## 4. Evaluation"
   ]
  },
  {
   "cell_type": "code",
   "execution_count": 9,
   "metadata": {
    "colab": {},
    "colab_type": "code",
    "id": "h8RiElvKdv9i"
   },
   "outputs": [],
   "source": [
    "def eval(prediction, expected):\n",
    "    tp = 0\n",
    "    tn = 0\n",
    "    fp = 0\n",
    "    fn = 0\n",
    "    for E, P in zip(expected, prediction):\n",
    "        if E == 0:\n",
    "            if P == E:\n",
    "                tn += 1\n",
    "            else:\n",
    "                fp += 1\n",
    "        if E == 1:\n",
    "            if P == E:\n",
    "                tp += 1\n",
    "            else:\n",
    "                fn += 1\n",
    "\n",
    "    #Confusion Matrix\n",
    "    CM = np.array([[tp, fp],[fn, tn]])\n",
    "    print(\"\\nConfusion Matrix:\")\n",
    "    print(tp, fp)\n",
    "    print(fn, tp)\n",
    "\n",
    "    #Precision\n",
    "    precision = float(tp) / float(tp + fp)\n",
    "    print(\"Precision: \", precision)\n",
    "    \n",
    "    #Recall\n",
    "    recall = float(tp) / float(tp + fn)\n",
    "    print(\"Recall: \", recall)\n",
    "    \n",
    "    #Accuracy\n",
    "    accuracy = float(tp + tn) / float(tp + fn + tn + fp)\n",
    "    print(\"Accuracy: \", accuracy)\n",
    "    \n",
    "    #F1 score\n",
    "    f1_score = (2 * precision * recall) / (precision + recall)\n",
    "    print(\"F1 Score: \", f1_score)\n",
    "    "
   ]
  },
  {
   "cell_type": "markdown",
   "metadata": {
    "colab_type": "text",
    "id": "Fx2sVsTNdv9q"
   },
   "source": [
    "### 4.1 Logistic Regression"
   ]
  },
  {
   "cell_type": "code",
   "execution_count": 10,
   "metadata": {
    "colab": {
     "base_uri": "https://localhost:8080/",
     "height": 156
    },
    "colab_type": "code",
    "id": "woenC2QJdv9r",
    "outputId": "72d5399f-435b-4394-8a30-cb0fa4a24321"
   },
   "outputs": [
    {
     "name": "stdout",
     "output_type": "stream",
     "text": [
      "\n",
      "Confusion Matrix:\n",
      "1530 509\n",
      "550 1530\n",
      "Precision:  0.7503678273663561\n",
      "Recall:  0.7355769230769231\n",
      "Accuracy:  0.7451263537906138\n",
      "F1 Score:  0.742898761835397\n"
     ]
    }
   ],
   "source": [
    "ni = predict(vecxte,W_lr)\n",
    "sigm = sigmoid(ni)\n",
    "predicted = to_classlabel(sigm)\n",
    "eval(predicted, yte)  "
   ]
  },
  {
   "cell_type": "markdown",
   "metadata": {
    "colab_type": "text",
    "id": "V4uEz_MBdv91"
   },
   "source": [
    "### 4.2 k Nearest Neighbors"
   ]
  },
  {
   "cell_type": "code",
   "execution_count": 17,
   "metadata": {
    "colab": {
     "base_uri": "https://localhost:8080/",
     "height": 868
    },
    "colab_type": "code",
    "id": "3AWDXc_Cdv92",
    "outputId": "45d56f2f-5fe8-4b1a-843e-fdb7522205b8"
   },
   "outputs": [
    {
     "name": "stdout",
     "output_type": "stream",
     "text": [
      "K = 1\n",
      "\n",
      "Confusion Matrix:\n",
      "2080 2075\n",
      "0 2080\n",
      "Precision:  0.5006016847172082\n",
      "Recall:  1.0\n",
      "Accuracy:  0.5006016847172082\n",
      "F1 Score:  0.6672012830793905\n",
      "\n",
      "K = 3\n",
      "\n",
      "Confusion Matrix:\n",
      "1968 1838\n",
      "112 1968\n",
      "Precision:  0.5170782974251182\n",
      "Recall:  0.9461538461538461\n",
      "Accuracy:  0.5306859205776173\n",
      "F1 Score:  0.6687054026503568\n",
      "\n",
      "K = 5\n",
      "\n",
      "Confusion Matrix:\n",
      "1995 1898\n",
      "85 1995\n",
      "Precision:  0.5124582584125353\n",
      "Recall:  0.9591346153846154\n",
      "Accuracy:  0.5227436823104693\n",
      "F1 Score:  0.6680060271220492\n",
      "\n",
      "K = 7\n",
      "\n",
      "Confusion Matrix:\n",
      "1982 1861\n",
      "98 1982\n",
      "Precision:  0.5157429091855321\n",
      "Recall:  0.9528846153846153\n",
      "Accuracy:  0.5285198555956678\n",
      "F1 Score:  0.6692554448759074\n",
      "\n",
      "K = 10\n",
      "\n",
      "Confusion Matrix:\n",
      "1938 1765\n",
      "142 1938\n",
      "Precision:  0.5233594382932757\n",
      "Recall:  0.9317307692307693\n",
      "Accuracy:  0.541034897713598\n",
      "F1 Score:  0.6702403596749092\n"
     ]
    }
   ],
   "source": [
    "print(\"K = 1\")\n",
    "eval(k_1, yte)\n",
    "print(\"\\nK = 3\")\n",
    "eval(k_3, yte)\n",
    "print(\"\\nK = 5\")\n",
    "eval(k_5, yte)\n",
    "print(\"\\nK = 7\")\n",
    "eval(k_7, yte)\n",
    "print(\"\\nK = 10\")\n",
    "eval(k_10, yte)"
   ]
  },
  {
   "cell_type": "markdown",
   "metadata": {
    "colab_type": "text",
    "id": "JqiGqT3udv97"
   },
   "source": [
    "### 4.3 Perceptron"
   ]
  },
  {
   "cell_type": "code",
   "execution_count": 11,
   "metadata": {
    "colab": {
     "base_uri": "https://localhost:8080/",
     "height": 156
    },
    "colab_type": "code",
    "id": "1BOrjI9odv98",
    "outputId": "1a7b3500-19ee-4286-fa61-b4fcfead149b"
   },
   "outputs": [
    {
     "name": "stdout",
     "output_type": "stream",
     "text": [
      "\n",
      "Confusion Matrix:\n",
      "1934 1535\n",
      "146 1934\n",
      "Precision:  0.5575093686941481\n",
      "Recall:  0.9298076923076923\n",
      "Accuracy:  0.5954271961492178\n",
      "F1 Score:  0.697062533789872\n"
     ]
    }
   ],
   "source": [
    "xte_p = np.c_[ np.ones((vecxte.shape)[0]), vecxte ] \n",
    "predicted_p = predict_p(xte_p, W_p)\n",
    "eval(predicted_p, yte) "
   ]
  },
  {
   "cell_type": "code",
   "execution_count": 0,
   "metadata": {
    "colab": {},
    "colab_type": "code",
    "id": "yjy5B8zhplTi"
   },
   "outputs": [],
   "source": []
  }
 ],
 "metadata": {
  "accelerator": "GPU",
  "colab": {
   "collapsed_sections": [],
   "machine_shape": "hm",
   "name": "21100185_19100085.ipynb",
   "provenance": []
  },
  "kernelspec": {
   "display_name": "Python 3",
   "language": "python",
   "name": "python3"
  },
  "language_info": {
   "codemirror_mode": {
    "name": "ipython",
    "version": 3
   },
   "file_extension": ".py",
   "mimetype": "text/x-python",
   "name": "python",
   "nbconvert_exporter": "python",
   "pygments_lexer": "ipython3",
   "version": "3.7.4"
  }
 },
 "nbformat": 4,
 "nbformat_minor": 1
}

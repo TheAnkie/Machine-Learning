{
 "cells": [
  {
   "cell_type": "markdown",
   "metadata": {},
   "source": [
    "## Assignment 2 - Abdullah Naseem 19100085\n",
    "**Note: the book uses summations which I have converted to vectorized implementation. This is because the dataset size is too large to use for loops** "
   ]
  },
  {
   "cell_type": "code",
   "execution_count": 1,
   "metadata": {},
   "outputs": [],
   "source": [
    "import numpy as np\n",
    "import matplotlib.pyplot as plt\n",
    "import pandas as pd\n",
    "import glob"
   ]
  },
  {
   "cell_type": "markdown",
   "metadata": {},
   "source": [
    "### Loading Data"
   ]
  },
  {
   "cell_type": "code",
   "execution_count": 2,
   "metadata": {},
   "outputs": [],
   "source": [
    "def load_files(directory):\n",
    "    all_files = glob.glob(directory)\n",
    "    all_reviews = {}\n",
    "    for file in all_files:\n",
    "        with open(file, 'r') as file_content:\n",
    "            review = file_content.read()\n",
    "            filename = file.split('/')[-1]\n",
    "            all_reviews[filename] = review\n",
    "    return all_reviews"
   ]
  },
  {
   "cell_type": "code",
   "execution_count": 3,
   "metadata": {},
   "outputs": [
    {
     "ename": "UnicodeDecodeError",
     "evalue": "'charmap' codec can't decode byte 0x9d in position 803: character maps to <undefined>",
     "output_type": "error",
     "traceback": [
      "\u001b[1;31m---------------------------------------------------------------------------\u001b[0m",
      "\u001b[1;31mUnicodeDecodeError\u001b[0m                        Traceback (most recent call last)",
      "\u001b[1;32m<ipython-input-3-b3319a764c37>\u001b[0m in \u001b[0;36m<module>\u001b[1;34m\u001b[0m\n\u001b[1;32m----> 1\u001b[1;33m \u001b[0mtrain_pos_reviews\u001b[0m \u001b[1;33m=\u001b[0m \u001b[0mload_files\u001b[0m\u001b[1;33m(\u001b[0m\u001b[1;34m'Dataset/train/pos/*'\u001b[0m\u001b[1;33m)\u001b[0m\u001b[1;33m\u001b[0m\u001b[1;33m\u001b[0m\u001b[0m\n\u001b[0m\u001b[0;32m      2\u001b[0m \u001b[0mtrain_neg_reviews\u001b[0m \u001b[1;33m=\u001b[0m \u001b[0mload_files\u001b[0m\u001b[1;33m(\u001b[0m\u001b[1;34m'Dataset/train/neg/*'\u001b[0m\u001b[1;33m)\u001b[0m\u001b[1;33m\u001b[0m\u001b[1;33m\u001b[0m\u001b[0m\n\u001b[0;32m      3\u001b[0m \u001b[0mtest_pos_reviews\u001b[0m \u001b[1;33m=\u001b[0m \u001b[0mload_files\u001b[0m\u001b[1;33m(\u001b[0m\u001b[1;34m'Dataset/test/pos/*'\u001b[0m\u001b[1;33m)\u001b[0m\u001b[1;33m\u001b[0m\u001b[1;33m\u001b[0m\u001b[0m\n\u001b[0;32m      4\u001b[0m \u001b[0mtest_neg_reviews\u001b[0m \u001b[1;33m=\u001b[0m \u001b[0mload_files\u001b[0m\u001b[1;33m(\u001b[0m\u001b[1;34m'Dataset/test/neg/*'\u001b[0m\u001b[1;33m)\u001b[0m\u001b[1;33m\u001b[0m\u001b[1;33m\u001b[0m\u001b[0m\n\u001b[0;32m      5\u001b[0m \u001b[1;33m\u001b[0m\u001b[0m\n",
      "\u001b[1;32m<ipython-input-2-bf368453ddc2>\u001b[0m in \u001b[0;36mload_files\u001b[1;34m(directory)\u001b[0m\n\u001b[0;32m      4\u001b[0m     \u001b[1;32mfor\u001b[0m \u001b[0mfile\u001b[0m \u001b[1;32min\u001b[0m \u001b[0mall_files\u001b[0m\u001b[1;33m:\u001b[0m\u001b[1;33m\u001b[0m\u001b[1;33m\u001b[0m\u001b[0m\n\u001b[0;32m      5\u001b[0m         \u001b[1;32mwith\u001b[0m \u001b[0mopen\u001b[0m\u001b[1;33m(\u001b[0m\u001b[0mfile\u001b[0m\u001b[1;33m,\u001b[0m \u001b[1;34m'r'\u001b[0m\u001b[1;33m)\u001b[0m \u001b[1;32mas\u001b[0m \u001b[0mfile_content\u001b[0m\u001b[1;33m:\u001b[0m\u001b[1;33m\u001b[0m\u001b[1;33m\u001b[0m\u001b[0m\n\u001b[1;32m----> 6\u001b[1;33m             \u001b[0mreview\u001b[0m \u001b[1;33m=\u001b[0m \u001b[0mfile_content\u001b[0m\u001b[1;33m.\u001b[0m\u001b[0mread\u001b[0m\u001b[1;33m(\u001b[0m\u001b[1;33m)\u001b[0m\u001b[1;33m\u001b[0m\u001b[1;33m\u001b[0m\u001b[0m\n\u001b[0m\u001b[0;32m      7\u001b[0m             \u001b[0mfilename\u001b[0m \u001b[1;33m=\u001b[0m \u001b[0mfile\u001b[0m\u001b[1;33m.\u001b[0m\u001b[0msplit\u001b[0m\u001b[1;33m(\u001b[0m\u001b[1;34m'/'\u001b[0m\u001b[1;33m)\u001b[0m\u001b[1;33m[\u001b[0m\u001b[1;33m-\u001b[0m\u001b[1;36m1\u001b[0m\u001b[1;33m]\u001b[0m\u001b[1;33m\u001b[0m\u001b[1;33m\u001b[0m\u001b[0m\n\u001b[0;32m      8\u001b[0m             \u001b[0mall_reviews\u001b[0m\u001b[1;33m[\u001b[0m\u001b[0mfilename\u001b[0m\u001b[1;33m]\u001b[0m \u001b[1;33m=\u001b[0m \u001b[0mreview\u001b[0m\u001b[1;33m\u001b[0m\u001b[1;33m\u001b[0m\u001b[0m\n",
      "\u001b[1;32m~\\Anaconda3\\lib\\encodings\\cp1252.py\u001b[0m in \u001b[0;36mdecode\u001b[1;34m(self, input, final)\u001b[0m\n\u001b[0;32m     21\u001b[0m \u001b[1;32mclass\u001b[0m \u001b[0mIncrementalDecoder\u001b[0m\u001b[1;33m(\u001b[0m\u001b[0mcodecs\u001b[0m\u001b[1;33m.\u001b[0m\u001b[0mIncrementalDecoder\u001b[0m\u001b[1;33m)\u001b[0m\u001b[1;33m:\u001b[0m\u001b[1;33m\u001b[0m\u001b[1;33m\u001b[0m\u001b[0m\n\u001b[0;32m     22\u001b[0m     \u001b[1;32mdef\u001b[0m \u001b[0mdecode\u001b[0m\u001b[1;33m(\u001b[0m\u001b[0mself\u001b[0m\u001b[1;33m,\u001b[0m \u001b[0minput\u001b[0m\u001b[1;33m,\u001b[0m \u001b[0mfinal\u001b[0m\u001b[1;33m=\u001b[0m\u001b[1;32mFalse\u001b[0m\u001b[1;33m)\u001b[0m\u001b[1;33m:\u001b[0m\u001b[1;33m\u001b[0m\u001b[1;33m\u001b[0m\u001b[0m\n\u001b[1;32m---> 23\u001b[1;33m         \u001b[1;32mreturn\u001b[0m \u001b[0mcodecs\u001b[0m\u001b[1;33m.\u001b[0m\u001b[0mcharmap_decode\u001b[0m\u001b[1;33m(\u001b[0m\u001b[0minput\u001b[0m\u001b[1;33m,\u001b[0m\u001b[0mself\u001b[0m\u001b[1;33m.\u001b[0m\u001b[0merrors\u001b[0m\u001b[1;33m,\u001b[0m\u001b[0mdecoding_table\u001b[0m\u001b[1;33m)\u001b[0m\u001b[1;33m[\u001b[0m\u001b[1;36m0\u001b[0m\u001b[1;33m]\u001b[0m\u001b[1;33m\u001b[0m\u001b[1;33m\u001b[0m\u001b[0m\n\u001b[0m\u001b[0;32m     24\u001b[0m \u001b[1;33m\u001b[0m\u001b[0m\n\u001b[0;32m     25\u001b[0m \u001b[1;32mclass\u001b[0m \u001b[0mStreamWriter\u001b[0m\u001b[1;33m(\u001b[0m\u001b[0mCodec\u001b[0m\u001b[1;33m,\u001b[0m\u001b[0mcodecs\u001b[0m\u001b[1;33m.\u001b[0m\u001b[0mStreamWriter\u001b[0m\u001b[1;33m)\u001b[0m\u001b[1;33m:\u001b[0m\u001b[1;33m\u001b[0m\u001b[1;33m\u001b[0m\u001b[0m\n",
      "\u001b[1;31mUnicodeDecodeError\u001b[0m: 'charmap' codec can't decode byte 0x9d in position 803: character maps to <undefined>"
     ]
    }
   ],
   "source": [
    "train_pos_reviews = load_files('Dataset/train/pos/*')\n",
    "train_neg_reviews = load_files('Dataset/train/neg/*')\n",
    "test_pos_reviews = load_files('Dataset/test/pos/*')\n",
    "test_neg_reviews = load_files('Dataset/test/neg/*')\n",
    "\n",
    "print(len(train_pos_reviews))\n",
    "print(len(train_neg_reviews))\n",
    "print(len(test_pos_reviews))\n",
    "print(len(test_pos_reviews))"
   ]
  },
  {
   "cell_type": "markdown",
   "metadata": {},
   "source": [
    "### Preprocess Data"
   ]
  },
  {
   "cell_type": "code",
   "execution_count": 4,
   "metadata": {},
   "outputs": [],
   "source": [
    "def preprocess(review_dict):\n",
    "    with open('Dataset/positive-words.txt','r') as file_content:\n",
    "        positive_lexicon = file_content.read().split('\\n')\n",
    "    with open('Dataset/negative-words.txt','r') as file_content:\n",
    "        negative_lexicon = file_content.read().split('\\n')\n",
    "    \n",
    "    preprocessed_reviews = []\n",
    "    for filename, review in review_dict.items():\n",
    "        review = review.lower()\n",
    "#       Count of neg/pos words\n",
    "#       Float64 minimizes errors \n",
    "        x_1 = np.float64(0)\n",
    "        x_2 = np.float64(0)\n",
    "        total = np.float64(0)\n",
    "        for word in review.split():\n",
    "            if word in positive_lexicon:\n",
    "                x_1 += 1\n",
    "            if word in negative_lexicon:\n",
    "                x_2 += 1\n",
    "            total += 1\n",
    "#       Star rating\n",
    "        i = filename.find('_')\n",
    "        j = filename.find('.')\n",
    "        x_3 = np.float64(filename[i+1:j])\n",
    "        \n",
    "#       log word count\n",
    "        x_4 = np.log(total)\n",
    "    \n",
    "        if 'no' in review:\n",
    "            x_5 = np.float64(1)\n",
    "        else:\n",
    "            x_5 = np.float64(0)\n",
    "            \n",
    "        if '!' in review:\n",
    "            x_6 = np.float64(1)\n",
    "        else:\n",
    "            x_6 = np.float64(0)\n",
    "        \n",
    "        features = np.array([x_1, x_2, x_3, x_4, x_5, x_6])\n",
    "        preprocessed_reviews.append(features)\n",
    "        \n",
    "    preprocessed_reviews = np.array(preprocessed_reviews)\n",
    "    return preprocessed_reviews"
   ]
  },
  {
   "cell_type": "code",
   "execution_count": 5,
   "metadata": {},
   "outputs": [],
   "source": [
    "train_pos_pre = preprocess(train_pos_reviews)\n",
    "train_neg_pre = preprocess(train_neg_reviews)\n",
    "test_pos_pre = preprocess(test_pos_reviews)\n",
    "test_neg_pre = preprocess(test_neg_reviews)"
   ]
  },
  {
   "cell_type": "code",
   "execution_count": 6,
   "metadata": {},
   "outputs": [
    {
     "name": "stdout",
     "output_type": "stream",
     "text": [
      "(12500, 6)\n",
      "(12500, 6)\n",
      "(12500, 6)\n",
      "(12500, 6)\n"
     ]
    }
   ],
   "source": [
    "print(train_pos_pre.shape)\n",
    "print(train_neg_pre.shape)\n",
    "print(test_pos_pre.shape)\n",
    "print(test_neg_pre.shape)"
   ]
  },
  {
   "cell_type": "code",
   "execution_count": 7,
   "metadata": {},
   "outputs": [
    {
     "name": "stdout",
     "output_type": "stream",
     "text": [
      "(12500, 1)\n",
      "(12500, 1)\n",
      "(12500, 1)\n",
      "(12500, 1)\n"
     ]
    }
   ],
   "source": [
    "train_pos_Y = np.array([1 for i in range(train_pos_pre.shape[0])]).reshape(-1,1)\n",
    "train_neg_Y = np.array([0 for i in range(train_neg_pre.shape[0])]).reshape(-1,1)\n",
    "test_pos_Y = np.array([1 for i in range(test_pos_pre.shape[0])]).reshape(-1,1)\n",
    "test_neg_Y = np.array([0 for i in range(test_neg_pre.shape[0])]).reshape(-1,1)\n",
    "print(train_pos_Y.shape)\n",
    "print(train_neg_Y.shape)\n",
    "print(test_pos_Y.shape)\n",
    "print(test_neg_Y.shape)"
   ]
  },
  {
   "cell_type": "code",
   "execution_count": 8,
   "metadata": {},
   "outputs": [
    {
     "name": "stdout",
     "output_type": "stream",
     "text": [
      "(25000, 6)\n",
      "(25000, 1)\n",
      "(25000, 6)\n",
      "(25000, 1)\n"
     ]
    }
   ],
   "source": [
    "train_X = np.concatenate((train_pos_pre, train_neg_pre))\n",
    "print(train_X.shape)\n",
    "train_Y = np.concatenate((train_pos_Y, train_neg_Y))\n",
    "print(train_Y.shape)\n",
    "test_X = np.concatenate((test_pos_pre, test_neg_pre))\n",
    "print(test_X.shape)\n",
    "test_Y = np.concatenate((test_pos_Y, test_neg_Y))\n",
    "print(test_Y.shape)"
   ]
  },
  {
   "cell_type": "markdown",
   "metadata": {},
   "source": [
    "### Helper Functions"
   ]
  },
  {
   "cell_type": "code",
   "execution_count": 9,
   "metadata": {},
   "outputs": [],
   "source": [
    "# Was getting a \"Divide by zero\" error without this:\n",
    "# Help from: https://stackoverflow.com/questions/38125319/python-divide-by-zero-encountered-in-log-logistic-regression\n",
    "epsilon = np.float(1e-100)"
   ]
  },
  {
   "cell_type": "code",
   "execution_count": 10,
   "metadata": {},
   "outputs": [],
   "source": [
    "def sigmoid(Z):\n",
    "    return 1 / (1 + np.exp(-Z))"
   ]
  },
  {
   "cell_type": "code",
   "execution_count": 11,
   "metadata": {},
   "outputs": [],
   "source": [
    "def cross_entropy_loss(H, Y):\n",
    "    return (-Y * np.log(H + epsilon) - (1 - Y) * np.log(1 - H + epsilon)).mean()"
   ]
  },
  {
   "cell_type": "code",
   "execution_count": 12,
   "metadata": {},
   "outputs": [],
   "source": [
    "def hypothesis(X, thetas):\n",
    "    Z = np.dot(X, thetas).reshape(-1,1)\n",
    "    return sigmoid(Z)"
   ]
  },
  {
   "cell_type": "code",
   "execution_count": 13,
   "metadata": {},
   "outputs": [],
   "source": [
    "def predict(X, thetas):\n",
    "    H = hypothesis(X, thetas)\n",
    "    predictions = []\n",
    "    for h in H:\n",
    "        if h[0] > 0.5:\n",
    "            predictions.append(1)\n",
    "        else:\n",
    "            predictions.append(0)\n",
    "    predictions = np.array(predictions).reshape(-1,1)\n",
    "    return predictions"
   ]
  },
  {
   "cell_type": "code",
   "execution_count": 14,
   "metadata": {},
   "outputs": [
    {
     "name": "stdout",
     "output_type": "stream",
     "text": [
      "[1 1 1 1 1 1]\n"
     ]
    }
   ],
   "source": [
    "thetas = np.array([1 for i in range(train_X.shape[1])])\n",
    "print(thetas)"
   ]
  },
  {
   "cell_type": "code",
   "execution_count": 15,
   "metadata": {},
   "outputs": [
    {
     "name": "stdout",
     "output_type": "stream",
     "text": [
      "[[1.        ]\n",
      " [1.        ]\n",
      " [1.        ]\n",
      " ...\n",
      " [1.        ]\n",
      " [0.99999943]\n",
      " [1.        ]]\n",
      "(25000, 1)\n"
     ]
    }
   ],
   "source": [
    "hypotheses = hypothesis(train_X, thetas)\n",
    "print(hypotheses)\n",
    "print(hypotheses.shape)"
   ]
  },
  {
   "cell_type": "code",
   "execution_count": 16,
   "metadata": {},
   "outputs": [
    {
     "name": "stdout",
     "output_type": "stream",
     "text": [
      "[[1]\n",
      " [1]\n",
      " [1]\n",
      " ...\n",
      " [1]\n",
      " [1]\n",
      " [1]]\n",
      "(25000, 1)\n"
     ]
    }
   ],
   "source": [
    "predictions = predict(train_X, thetas)\n",
    "print(predictions)\n",
    "print(predictions.shape)"
   ]
  },
  {
   "cell_type": "code",
   "execution_count": 17,
   "metadata": {},
   "outputs": [],
   "source": [
    "def derivative(X, H, Y):\n",
    "    return np.dot(X.T, (H-Y)) / X.shape[0]"
   ]
  },
  {
   "cell_type": "code",
   "execution_count": 18,
   "metadata": {},
   "outputs": [
    {
     "name": "stdout",
     "output_type": "stream",
     "text": [
      "[[3.29131539]\n",
      " [4.16639334]\n",
      " [1.1084696 ]\n",
      " [2.62032259]\n",
      " [0.45743787]\n",
      " [0.17659862]]\n"
     ]
    }
   ],
   "source": [
    "der = derivative(train_X, hypotheses, train_Y)\n",
    "print(der)"
   ]
  },
  {
   "cell_type": "markdown",
   "metadata": {},
   "source": [
    "### Learning"
   ]
  },
  {
   "cell_type": "code",
   "execution_count": 19,
   "metadata": {},
   "outputs": [],
   "source": [
    "def batch_gradient_descent(X, Y, n_epochs = 500, alpha = 0.01):\n",
    "    thetas = np.array([np.float64(1) for i in range(X.shape[1])]).reshape(-1, 1)\n",
    "    J = []\n",
    "    for epoch in range(n_epochs):\n",
    "        H = hypothesis(X, thetas)\n",
    "        loss = cross_entropy_loss(H, Y)\n",
    "        J.append(loss)\n",
    "        \n",
    "        der = derivative(X, H, Y)\n",
    "        \n",
    "        thetas -= alpha*der\n",
    "    \n",
    "    return J, thetas"
   ]
  },
  {
   "cell_type": "code",
   "execution_count": 20,
   "metadata": {},
   "outputs": [],
   "source": [
    "def stochastic_gradient_descent(X, Y, n_epochs = 500, alpha = 0.01):\n",
    "    thetas = np.array([np.float64(1) for i in range(X.shape[1])]).reshape(-1,1)\n",
    "    J = []\n",
    "    for epoch in range(n_epochs):\n",
    "#       Go over each data point before updating the gradient\n",
    "        for x, y in zip(X, Y):\n",
    "            y = y.reshape(1,-1)\n",
    "            x = x.reshape(1,-1)\n",
    "            H = hypothesis(x, thetas)\n",
    "            loss = cross_entropy_loss(H,y)\n",
    "            J.append(loss)\n",
    "            \n",
    "            der = derivative(x,H,y)\n",
    "            thetas -= alpha*der\n",
    "            \n",
    "    return J, thetas"
   ]
  },
  {
   "cell_type": "code",
   "execution_count": 21,
   "metadata": {},
   "outputs": [],
   "source": [
    "J, thetas = batch_gradient_descent(train_X, train_Y)"
   ]
  },
  {
   "cell_type": "code",
   "execution_count": 22,
   "metadata": {},
   "outputs": [],
   "source": [
    "J_stochastic, thetas_stochastic = stochastic_gradient_descent(train_X, train_Y)"
   ]
  },
  {
   "cell_type": "code",
   "execution_count": 23,
   "metadata": {},
   "outputs": [
    {
     "data": {
      "image/png": "[encoded data removed]",
      "text/plain": [
       "<Figure size 432x288 with 1 Axes>"
      ]
     },
     "metadata": {
      "needs_background": "light"
     },
     "output_type": "display_data"
    }
   ],
   "source": [
    "plt.plot(J)\n",
    "plt.show()"
   ]
  },
  {
   "cell_type": "code",
   "execution_count": 24,
   "metadata": {},
   "outputs": [
    {
     "data": {
      "image/png": "[encoded data removed]",
      "text/plain": [
       "<Figure size 432x288 with 1 Axes>"
      ]
     },
     "metadata": {
      "needs_background": "light"
     },
     "output_type": "display_data"
    }
   ],
   "source": [
    "plt.plot(J_stochastic)\n",
    "plt.show()"
   ]
  },
  {
   "cell_type": "markdown",
   "metadata": {},
   "source": [
    "### Evaluation"
   ]
  },
  {
   "cell_type": "code",
   "execution_count": 25,
   "metadata": {},
   "outputs": [
    {
     "name": "stdout",
     "output_type": "stream",
     "text": [
      "[0 1]\n"
     ]
    }
   ],
   "source": [
    "test_preds = predict(test_X, thetas)\n",
    "print(np.unique(test_preds))"
   ]
  },
  {
   "cell_type": "code",
   "execution_count": 26,
   "metadata": {},
   "outputs": [],
   "source": [
    "test_preds_stochastic = predict(test_X, thetas_stochastic)"
   ]
  },
  {
   "cell_type": "code",
   "execution_count": 27,
   "metadata": {},
   "outputs": [
    {
     "name": "stdout",
     "output_type": "stream",
     "text": [
      "Evaluation of Batch Gradient Descent\n",
      "Accuracy of the model is: 0.99124\n",
      "Precision of the model is: 0.9879996821107844\n",
      "Recall of the model is: 0.99456\n",
      "F1-Score of the model is: 0.9912689869632818\n",
      "Confusion matrix:\n",
      "[[12432   151]\n",
      " [   68 12349]]\n"
     ]
    }
   ],
   "source": [
    "pos = 0\n",
    "neg = 0\n",
    "true_pos = 0\n",
    "true_neg = 0\n",
    "false_pos = 0\n",
    "false_neg = 0\n",
    "for true, pred in zip(test_Y, test_preds):\n",
    "    if true == 1:\n",
    "        pos += 1\n",
    "        if pred == 1:\n",
    "            true_pos += 1\n",
    "        elif pred == 0:\n",
    "            false_neg += 1\n",
    "    elif true == 0:\n",
    "        neg += 1\n",
    "        if pred == 1:\n",
    "            false_pos += 1\n",
    "        elif pred == 0:\n",
    "            true_neg += 1\n",
    "            \n",
    "accuracy = float(true_pos + true_neg) / float(true_pos + true_neg + false_pos + false_neg)\n",
    "precision = float(true_pos) / float(true_pos + false_pos)\n",
    "recall = float(true_pos) / float(true_pos + false_neg)\n",
    "f1_score = (2*precision*recall) / (precision + recall)\n",
    "print(\"Evaluation of Batch Gradient Descent\")\n",
    "\n",
    "print(\"Accuracy of the model is:\", accuracy)\n",
    "print(\"Precision of the model is:\", precision)\n",
    "print(\"Recall of the model is:\", recall)\n",
    "print(\"F1-Score of the model is:\", f1_score)\n",
    "\n",
    "confusion_matrix = np.array([\n",
    "    [true_pos, false_pos],\n",
    "    [false_neg, true_neg],\n",
    "])\n",
    "print(\"Confusion matrix:\")\n",
    "print(confusion_matrix)"
   ]
  },
  {
   "cell_type": "code",
   "execution_count": 28,
   "metadata": {},
   "outputs": [
    {
     "name": "stdout",
     "output_type": "stream",
     "text": [
      "Evaluation of Stochastic Gradient Descent\n",
      "Accuracy of the model is: 0.99928\n",
      "Precision of the model is: 1.0\n",
      "Recall of the model is: 0.99856\n",
      "F1-Score of the model is: 0.9992794812264831\n",
      "Confusion matrix:\n",
      "[[12482     0]\n",
      " [   18 12500]]\n"
     ]
    }
   ],
   "source": [
    "pos = 0\n",
    "neg = 0\n",
    "true_pos = 0\n",
    "true_neg = 0\n",
    "false_pos = 0\n",
    "false_neg = 0\n",
    "for true, pred in zip(test_Y, test_preds_stochastic):\n",
    "    if true == 1:\n",
    "        pos += 1\n",
    "        if pred == 1:\n",
    "            true_pos += 1\n",
    "        elif pred == 0:\n",
    "            false_neg += 1\n",
    "    elif true == 0:\n",
    "        neg += 1\n",
    "        if pred == 1:\n",
    "            false_pos += 1\n",
    "        elif pred == 0:\n",
    "            true_neg += 1\n",
    "            \n",
    "accuracy = float(true_pos + true_neg) / float(true_pos + true_neg + false_pos + false_neg)\n",
    "precision = float(true_pos) / float(true_pos + false_pos)\n",
    "recall = float(true_pos) / float(true_pos + false_neg)\n",
    "f1_score = (2*precision*recall) / (precision + recall)\n",
    "print(\"Evaluation of Stochastic Gradient Descent\")\n",
    "\n",
    "print(\"Accuracy of the model is:\", accuracy)\n",
    "print(\"Precision of the model is:\", precision)\n",
    "print(\"Recall of the model is:\", recall)\n",
    "print(\"F1-Score of the model is:\", f1_score)\n",
    "\n",
    "confusion_matrix = np.array([\n",
    "    [true_pos, false_pos],\n",
    "    [false_neg, true_neg],\n",
    "])\n",
    "print(\"Confusion matrix:\")\n",
    "print(confusion_matrix)"
   ]
  },
  {
   "cell_type": "code",
   "execution_count": null,
   "metadata": {},
   "outputs": [],
   "source": []
  }
 ],
 "metadata": {
  "kernelspec": {
   "display_name": "Python 3",
   "language": "python",
   "name": "python3"
  },
  "language_info": {
   "codemirror_mode": {
    "name": "ipython",
    "version": 3
   },
   "file_extension": ".py",
   "mimetype": "text/x-python",
   "name": "python",
   "nbconvert_exporter": "python",
   "pygments_lexer": "ipython3",
   "version": "3.7.4"
  }
 },
 "nbformat": 4,
 "nbformat_minor": 4
}
